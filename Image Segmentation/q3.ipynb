{
  "cells": [
    {
      "cell_type": "code",
      "execution_count": 348,
      "metadata": {
        "id": "JLivAc_FOJsh"
      },
      "outputs": [],
      "source": [
        "import numpy as np\n",
        "import cv2\n",
        "import matplotlib.pylab as plt"
      ]
    },
    {
      "cell_type": "markdown",
      "metadata": {},
      "source": [
        "We load the image from the given file."
      ]
    },
    {
      "cell_type": "code",
      "execution_count": 349,
      "metadata": {
        "id": "qlSsmlJfOfh9"
      },
      "outputs": [],
      "source": [
        "img = cv2.imread('./slic.jpg')\n",
        "img_rgb = cv2.cvtColor(img, cv2.COLOR_BGR2RGB)"
      ]
    },
    {
      "cell_type": "markdown",
      "metadata": {},
      "source": [
        "We set the parameter K and compute needed information from that."
      ]
    },
    {
      "cell_type": "code",
      "execution_count": 350,
      "metadata": {
        "colab": {
          "base_uri": "https://localhost:8080/"
        },
        "id": "CRNRcJv1PG-6",
        "outputId": "154eee76-291f-4282-d04c-c7c29837429d"
      },
      "outputs": [
        {
          "data": {
            "text/plain": [
              "(12192768, 190512.0, 436.4768035073571, 378.0, 504.0)"
            ]
          },
          "execution_count": 350,
          "metadata": {},
          "output_type": "execute_result"
        }
      ],
      "source": [
        "k = 64\n",
        "number_of_pixels = img.shape[0] * img.shape[1]\n",
        "average_area = number_of_pixels / k\n",
        "S = average_area ** 0.5\n",
        "average_height = img.shape[0] / np.sqrt(k)\n",
        "average_width= img.shape[1] / np.sqrt(k)\n",
        "number_of_pixels, average_area, S, average_height, average_width"
      ]
    },
    {
      "cell_type": "markdown",
      "metadata": {},
      "source": [
        "Here we generate K equally spaced coordinates on the plane."
      ]
    },
    {
      "cell_type": "code",
      "execution_count": 351,
      "metadata": {
        "id": "PiepzjKwQ9Ej"
      },
      "outputs": [],
      "source": [
        "x_coordinates = np.convolve(np.arange(0, img.shape[0] + S/ 2 , S), [0.5, 0.5], 'valid')\n",
        "y_coordinates = np.convolve(np.arange(0, img.shape[1] + S/ 2 , S), [0.5, 0.5], 'valid')"
      ]
    },
    {
      "cell_type": "markdown",
      "metadata": {},
      "source": [
        "We calculate gradient magnitude using sobel function."
      ]
    },
    {
      "cell_type": "code",
      "execution_count": 352,
      "metadata": {
        "colab": {
          "base_uri": "https://localhost:8080/",
          "height": 1000
        },
        "id": "HsHx0uQeX4-0",
        "outputId": "f445ddb8-3e73-499f-9483-7a3cbe58a587"
      },
      "outputs": [],
      "source": [
        "ddepth = cv2.CV_64F\n",
        "dx = cv2.Sobel(img, ddepth, 1, 0)\n",
        "dy = cv2.Sobel(img, ddepth, 0, 1)\n",
        "gradient = np.sqrt(dx**2 + dy**2)"
      ]
    },
    {
      "cell_type": "markdown",
      "metadata": {},
      "source": [
        "We plot the selected points on empty plane."
      ]
    },
    {
      "cell_type": "code",
      "execution_count": 353,
      "metadata": {
        "colab": {
          "base_uri": "https://localhost:8080/",
          "height": 282
        },
        "id": "Be3MNS5XSNTj",
        "outputId": "e73730d9-a2ca-4cfc-fdd3-7436ba8c37ee"
      },
      "outputs": [
        {
          "data": {
            "image/png": "[encoded data removed]",
            "text/plain": [
              "<Figure size 432x288 with 1 Axes>"
            ]
          },
          "metadata": {
            "needs_background": "light"
          },
          "output_type": "display_data"
        },
        {
          "name": "stdout",
          "output_type": "stream",
          "text": [
            "2839 3711\n"
          ]
        }
      ],
      "source": [
        "centroids = list()\n",
        "for x in x_coordinates:\n",
        "  for y in y_coordinates:\n",
        "    min_gradient = float('inf')\n",
        "    min_index= (0, 0)\n",
        "    for x_dist in range(-2, 3):\n",
        "      for y_dist in range(-2, 3):\n",
        "        new_x, new_y = int(x + x_dist), int(y + y_dist)\n",
        "        current_gradient = np.sum(gradient[new_x, new_y]**2)\n",
        "        if current_gradient < min_gradient:\n",
        "          min_gradient = current_gradient\n",
        "          min_index = new_x, new_y\n",
        "    centroids.append((min_index[0], min_index[1]))\n",
        "\n",
        "X = np.array(centroids)[:,0]\n",
        "Y = np.array(centroids)[:,1]\n",
        "plt.scatter(X, Y)\n",
        "plt.show()\n",
        "print(np.max(X), np.max(Y))"
      ]
    },
    {
      "cell_type": "markdown",
      "metadata": {},
      "source": [
        "We convert the image to Lab space to perform the segmentation."
      ]
    },
    {
      "cell_type": "code",
      "execution_count": 354,
      "metadata": {
        "id": "SK7liXmaVG3c"
      },
      "outputs": [],
      "source": [
        "lab_img = cv2.cvtColor(img, cv2.COLOR_BGR2LAB)"
      ]
    },
    {
      "cell_type": "markdown",
      "metadata": {},
      "source": [
        "We genrate the 5 dimentional feature vector."
      ]
    },
    {
      "cell_type": "code",
      "execution_count": 355,
      "metadata": {
        "id": "sbtuUvpfVVMp"
      },
      "outputs": [],
      "source": [
        "feature_vector = list()\n",
        "for row in range(lab_img.shape[0]):\n",
        "  for col in range(lab_img.shape[1]):\n",
        "    L, a, b = lab_img[row, col]\n",
        "    feature_vector.append((row, col, L, a, b))"
      ]
    },
    {
      "cell_type": "code",
      "execution_count": 356,
      "metadata": {
        "colab": {
          "base_uri": "https://localhost:8080/"
        },
        "id": "Dq9ifV25WRVW",
        "outputId": "1c02b700-4360-4014-dfa9-50bddeecd701"
      },
      "outputs": [
        {
          "data": {
            "text/plain": [
              "(12192768, 5)"
            ]
          },
          "execution_count": 356,
          "metadata": {},
          "output_type": "execute_result"
        }
      ],
      "source": [
        "feature_vector = np.array(feature_vector)\n",
        "feature_vector.shape"
      ]
    },
    {
      "cell_type": "markdown",
      "metadata": {},
      "source": [
        "Here we set the m parameter. Alpha parameter is derived from **m/S** where S is average distance of neighbour points. "
      ]
    },
    {
      "cell_type": "code",
      "execution_count": 357,
      "metadata": {
        "id": "qyQcJcX6Romq"
      },
      "outputs": [],
      "source": [
        "m = 20\n",
        "alpha=float(m/S)\n",
        "feature_vector = feature_vector.reshape(img.shape[0], img.shape[1], -1)"
      ]
    },
    {
      "cell_type": "markdown",
      "metadata": {},
      "source": [
        "Here we perform the main step. We assign each pixel to its closest centroid. Each centroid covers a 2Sx2S area."
      ]
    },
    {
      "cell_type": "markdown",
      "metadata": {},
      "source": [
        "| k     | 64       | 128      | 256      | 512      | 1024     | 2048     |\n",
        "| ----- | -------- | -------- | -------- | -------- | -------- | -------- |\n",
        "| alpha | 0.045821 | 0.064801 | 0.091643 | 0.129603 | 0.183286 | 0.259205 |"
      ]
    },
    {
      "cell_type": "code",
      "execution_count": 358,
      "metadata": {
        "id": "Uo-EoIq-eClx"
      },
      "outputs": [],
      "source": [
        "distance_matrix = np.ones(shape=img.shape[:2], dtype=np.float64) * float('inf')\n",
        "label = np.zeros(shape=img.shape[:2], dtype=np.float32)\n",
        "color_label = np.zeros(shape=img.shape[:2], dtype=np.int64)\n",
        "\n",
        "for index, centroid in enumerate(centroids):\n",
        "  x, y = centroid\n",
        "  x_interval = np.uint16(np.arange(max(0, x-S), min(img.shape[0], x+S), 1))\n",
        "  y_interval = np.uint16(np.arange(max(0, y-S), min(img.shape[1], y+S), 1))\n",
        "  c = feature_vector[x, y]\n",
        "  D = alpha * np.sum((feature_vector[x_interval[0]:x_interval[-1] + 1, y_interval[0]:y_interval[-1] + 1, :2]  - c[:2])**2,\n",
        "              axis=-1) + np.sum((feature_vector[x_interval[0]:x_interval[-1] + 1, y_interval[0]:y_interval[-1] + 1, 2:]- c[2:])**2, axis=-1)\n",
        "  color = np.random.randint(1, 256)\n",
        "  for i, pixel_x in enumerate(x_interval):\n",
        "    for j, pixel_y in enumerate(y_interval):\n",
        "        distance = D[i, j]\n",
        "        if distance < distance_matrix[pixel_x, pixel_y]:\n",
        "          distance_matrix[pixel_x, pixel_y] = distance\n",
        "          label[pixel_x, pixel_y] = color\n",
        "          color_label[pixel_x, pixel_y] = index + 1"
      ]
    },
    {
      "cell_type": "code",
      "execution_count": 359,
      "metadata": {
        "id": "L81DHu0st3iy"
      },
      "outputs": [],
      "source": [
        "def normalize(img):\n",
        "    return cv2.normalize(img, np.zeros(img.shape), 0, 255, cv2.NORM_MINMAX)"
      ]
    },
    {
      "cell_type": "code",
      "execution_count": 360,
      "metadata": {
        "id": "hdw596Sfdp52"
      },
      "outputs": [
        {
          "name": "stdout",
          "output_type": "stream",
          "text": [
            "Alpha is : 0.045821449935684586\n"
          ]
        }
      ],
      "source": [
        "print('Alpha is :', m/S)"
      ]
    },
    {
      "cell_type": "markdown",
      "metadata": {},
      "source": [
        "We draw edges after applying a small median filter."
      ]
    },
    {
      "cell_type": "code",
      "execution_count": 361,
      "metadata": {
        "id": "VozEHYiFw1eI"
      },
      "outputs": [],
      "source": [
        "edges = cv2.Canny(cv2.medianBlur(normalize(label).astype(np.uint8), 2 * int(S/40) + 1),0,1)\n",
        "# cv2_imshow(edges)"
      ]
    },
    {
      "cell_type": "code",
      "execution_count": 362,
      "metadata": {
        "id": "PSRIE8sYx2q6"
      },
      "outputs": [
        {
          "data": {
            "text/plain": [
              "True"
            ]
          },
          "execution_count": 362,
          "metadata": {},
          "output_type": "execute_result"
        }
      ],
      "source": [
        "from skimage.segmentation import mark_boundaries\n",
        "regions = img.copy()\n",
        "regions[edges > 0 ] = np.array([0, 0, 255])\n",
        "# cv2_imshow(regions)\n",
        "cv2.imwrite(f'res06.jpg', regions)"
      ]
    },
    {
      "cell_type": "code",
      "execution_count": 363,
      "metadata": {
        "id": "Pc-94rcK4Se3"
      },
      "outputs": [
        {
          "data": {
            "text/plain": [
              "True"
            ]
          },
          "execution_count": 363,
          "metadata": {},
          "output_type": "execute_result"
        }
      ],
      "source": [
        "image_regions = img.copy()\n",
        "for i in range(index+2):\n",
        "  image_regions[color_label==i] = np.mean(img[color_label==i], axis=0)\n",
        "\n",
        "cv2.imwrite(f'q3-{k}-only_mean-{alpha}.jpg', image_regions)"
      ]
    },
    {
      "cell_type": "code",
      "execution_count": 364,
      "metadata": {
        "id": "eIjpjVwvvYBc"
      },
      "outputs": [
        {
          "data": {
            "text/plain": [
              "True"
            ]
          },
          "execution_count": 364,
          "metadata": {},
          "output_type": "execute_result"
        }
      ],
      "source": [
        "regions = image_regions.copy()\n",
        "regions[edges > 0 ] = np.array([0, 0, 255])\n",
        "# cv2_imshow(regions)\n",
        "cv2.imwrite(f'q3-{k}-mean_color-{alpha}.jpg', regions)"
      ]
    }
  ],
  "metadata": {
    "colab": {
      "collapsed_sections": [],
      "name": "q3.ipynb",
      "provenance": []
    },
    "kernelspec": {
      "display_name": "Python 3",
      "name": "python3"
    },
    "language_info": {
      "codemirror_mode": {
        "name": "ipython",
        "version": 3
      },
      "file_extension": ".py",
      "mimetype": "text/x-python",
      "name": "python",
      "nbconvert_exporter": "python",
      "pygments_lexer": "ipython3",
      "version": "3.9.7"
    }
  },
  "nbformat": 4,
  "nbformat_minor": 0
}
